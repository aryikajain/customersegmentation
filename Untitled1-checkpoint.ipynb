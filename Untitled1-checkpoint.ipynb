{
 "cells": [
  {
   "cell_type": "code",
   "execution_count": 3,
   "id": "b21ec751",
   "metadata": {},
   "outputs": [],
   "source": [
    "import pandas as pd\n",
    "import numpy as np\n",
    "import datetime as dt\n",
    "import seaborn as sns\n",
    "import matplotlib.pyplot as plt\n",
    "from sklearn.cluster import KMeans\n",
    "from sklearn.preprocessing import StandardScaler\n",
    "from sklearn.cluster import DBSCAN\n",
    "from scipy.cluster.hierarchy import linkage, dendrogram, fcluster\n",
    "\n"
   ]
  },
  {
   "cell_type": "code",
   "execution_count": 6,
   "id": "cf67f334",
   "metadata": {},
   "outputs": [
    {
     "ename": "ModuleNotFoundError",
     "evalue": "No module named 'django'",
     "output_type": "error",
     "traceback": [
      "\u001b[1;31m---------------------------------------------------------------------------\u001b[0m",
      "\u001b[1;31mModuleNotFoundError\u001b[0m                       Traceback (most recent call last)",
      "\u001b[1;32m~\\AppData\\Local\\Temp\\ipykernel_7028\\1632111540.py\u001b[0m in \u001b[0;36m<module>\u001b[1;34m\u001b[0m\n\u001b[0;32m      7\u001b[0m \u001b[1;33m\u001b[0m\u001b[0m\n\u001b[0;32m      8\u001b[0m \u001b[1;31m# Initialize Django\u001b[0m\u001b[1;33m\u001b[0m\u001b[1;33m\u001b[0m\u001b[0m\n\u001b[1;32m----> 9\u001b[1;33m \u001b[1;32mimport\u001b[0m \u001b[0mdjango\u001b[0m\u001b[1;33m\u001b[0m\u001b[1;33m\u001b[0m\u001b[0m\n\u001b[0m\u001b[0;32m     10\u001b[0m \u001b[0mdjango\u001b[0m\u001b[1;33m.\u001b[0m\u001b[0msetup\u001b[0m\u001b[1;33m(\u001b[0m\u001b[1;33m)\u001b[0m\u001b[1;33m\u001b[0m\u001b[1;33m\u001b[0m\u001b[0m\n",
      "\u001b[1;31mModuleNotFoundError\u001b[0m: No module named 'django'"
     ]
    }
   ],
   "source": [
    "import sys\n",
    "import os\n",
    "\n",
    "# Set Django settings\n",
    "sys.path.append('/path/to/DjangoFullAuth-main')  # Replace with the absolute path to the Django project\n",
    "os.environ['DJANGO_SETTINGS_MODULE'] = 'DjangoFullAuth.settings'\n",
    "\n",
    "# Initialize Django\n",
    "import django\n",
    "django.setup()"
   ]
  },
  {
   "cell_type": "markdown",
   "id": "37cdbf8a",
   "metadata": {},
   "source": [
    "##### reading the file "
   ]
  },
  {
   "cell_type": "code",
   "execution_count": 3,
   "id": "f4373813",
   "metadata": {},
   "outputs": [],
   "source": [
    "data = pd.read_csv(\"customer_data.csv\", encoding='ISO-8859-1')  # Replace with detected encoding\n"
   ]
  },
  {
   "cell_type": "code",
   "execution_count": 4,
   "id": "164be5da",
   "metadata": {},
   "outputs": [
    {
     "name": "stdout",
     "output_type": "stream",
     "text": [
      "  Invoice StockCode                          Description  Quantity  \\\n",
      "0  489434     85048  15CM CHRISTMAS GLASS BALL 20 LIGHTS        12   \n",
      "1  489434    79323P                   PINK CHERRY LIGHTS        12   \n",
      "2  489434    79323W                  WHITE CHERRY LIGHTS        12   \n",
      "3  489434     22041         RECORD FRAME 7\" SINGLE SIZE         48   \n",
      "4  489434     21232       STRAWBERRY CERAMIC TRINKET BOX        24   \n",
      "\n",
      "        InvoiceDate  Price  Customer ID         Country  \n",
      "0  12-01-2009 07:45   6.95      13085.0  United Kingdom  \n",
      "1  12-01-2009 07:45   6.75      13085.0  United Kingdom  \n",
      "2  12-01-2009 07:45   6.75      13085.0  United Kingdom  \n",
      "3  12-01-2009 07:45   2.10      13085.0  United Kingdom  \n",
      "4  12-01-2009 07:45   1.25      13085.0  United Kingdom  \n"
     ]
    }
   ],
   "source": [
    "print(data.head())"
   ]
  },
  {
   "cell_type": "markdown",
   "id": "1caeafd0",
   "metadata": {},
   "source": [
    "### cleaning the file "
   ]
  },
  {
   "cell_type": "code",
   "execution_count": 5,
   "id": "89ca41cd",
   "metadata": {},
   "outputs": [
    {
     "data": {
      "text/plain": [
       "Invoice             0\n",
       "StockCode           0\n",
       "Description      2928\n",
       "Quantity            0\n",
       "InvoiceDate         0\n",
       "Price               0\n",
       "Customer ID    107927\n",
       "Country             0\n",
       "dtype: int64"
      ]
     },
     "execution_count": 5,
     "metadata": {},
     "output_type": "execute_result"
    }
   ],
   "source": [
    "data.isnull().sum()"
   ]
  },
  {
   "cell_type": "code",
   "execution_count": 6,
   "id": "72377094",
   "metadata": {},
   "outputs": [],
   "source": [
    "data = data.dropna()"
   ]
  },
  {
   "cell_type": "code",
   "execution_count": 7,
   "id": "5fd9a84c",
   "metadata": {},
   "outputs": [
    {
     "data": {
      "text/plain": [
       "Invoice        0\n",
       "StockCode      0\n",
       "Description    0\n",
       "Quantity       0\n",
       "InvoiceDate    0\n",
       "Price          0\n",
       "Customer ID    0\n",
       "Country        0\n",
       "dtype: int64"
      ]
     },
     "execution_count": 7,
     "metadata": {},
     "output_type": "execute_result"
    }
   ],
   "source": [
    "data.isnull().sum()"
   ]
  },
  {
   "cell_type": "markdown",
   "id": "444b5a42",
   "metadata": {},
   "source": [
    "### rfm"
   ]
  },
  {
   "cell_type": "markdown",
   "id": "60b58812",
   "metadata": {},
   "source": [
    "##### monetary "
   ]
  },
  {
   "cell_type": "code",
   "execution_count": 8,
   "id": "8a2f05d7",
   "metadata": {},
   "outputs": [],
   "source": [
    "#revenue \n",
    "data['revenue'] = data['Quantity']*data['Price']"
   ]
  },
  {
   "cell_type": "code",
   "execution_count": 9,
   "id": "d6f26ba0",
   "metadata": {
    "scrolled": true
   },
   "outputs": [
    {
     "data": {
      "text/html": [
       "<div>\n",
       "<style scoped>\n",
       "    .dataframe tbody tr th:only-of-type {\n",
       "        vertical-align: middle;\n",
       "    }\n",
       "\n",
       "    .dataframe tbody tr th {\n",
       "        vertical-align: top;\n",
       "    }\n",
       "\n",
       "    .dataframe thead th {\n",
       "        text-align: right;\n",
       "    }\n",
       "</style>\n",
       "<table border=\"1\" class=\"dataframe\">\n",
       "  <thead>\n",
       "    <tr style=\"text-align: right;\">\n",
       "      <th></th>\n",
       "      <th>Invoice</th>\n",
       "      <th>StockCode</th>\n",
       "      <th>Description</th>\n",
       "      <th>Quantity</th>\n",
       "      <th>InvoiceDate</th>\n",
       "      <th>Price</th>\n",
       "      <th>Customer ID</th>\n",
       "      <th>Country</th>\n",
       "      <th>revenue</th>\n",
       "    </tr>\n",
       "  </thead>\n",
       "  <tbody>\n",
       "    <tr>\n",
       "      <th>0</th>\n",
       "      <td>489434</td>\n",
       "      <td>85048</td>\n",
       "      <td>15CM CHRISTMAS GLASS BALL 20 LIGHTS</td>\n",
       "      <td>12</td>\n",
       "      <td>12-01-2009 07:45</td>\n",
       "      <td>6.95</td>\n",
       "      <td>13085.0</td>\n",
       "      <td>United Kingdom</td>\n",
       "      <td>83.4</td>\n",
       "    </tr>\n",
       "    <tr>\n",
       "      <th>1</th>\n",
       "      <td>489434</td>\n",
       "      <td>79323P</td>\n",
       "      <td>PINK CHERRY LIGHTS</td>\n",
       "      <td>12</td>\n",
       "      <td>12-01-2009 07:45</td>\n",
       "      <td>6.75</td>\n",
       "      <td>13085.0</td>\n",
       "      <td>United Kingdom</td>\n",
       "      <td>81.0</td>\n",
       "    </tr>\n",
       "    <tr>\n",
       "      <th>2</th>\n",
       "      <td>489434</td>\n",
       "      <td>79323W</td>\n",
       "      <td>WHITE CHERRY LIGHTS</td>\n",
       "      <td>12</td>\n",
       "      <td>12-01-2009 07:45</td>\n",
       "      <td>6.75</td>\n",
       "      <td>13085.0</td>\n",
       "      <td>United Kingdom</td>\n",
       "      <td>81.0</td>\n",
       "    </tr>\n",
       "    <tr>\n",
       "      <th>3</th>\n",
       "      <td>489434</td>\n",
       "      <td>22041</td>\n",
       "      <td>RECORD FRAME 7\" SINGLE SIZE</td>\n",
       "      <td>48</td>\n",
       "      <td>12-01-2009 07:45</td>\n",
       "      <td>2.10</td>\n",
       "      <td>13085.0</td>\n",
       "      <td>United Kingdom</td>\n",
       "      <td>100.8</td>\n",
       "    </tr>\n",
       "    <tr>\n",
       "      <th>4</th>\n",
       "      <td>489434</td>\n",
       "      <td>21232</td>\n",
       "      <td>STRAWBERRY CERAMIC TRINKET BOX</td>\n",
       "      <td>24</td>\n",
       "      <td>12-01-2009 07:45</td>\n",
       "      <td>1.25</td>\n",
       "      <td>13085.0</td>\n",
       "      <td>United Kingdom</td>\n",
       "      <td>30.0</td>\n",
       "    </tr>\n",
       "  </tbody>\n",
       "</table>\n",
       "</div>"
      ],
      "text/plain": [
       "  Invoice StockCode                          Description  Quantity  \\\n",
       "0  489434     85048  15CM CHRISTMAS GLASS BALL 20 LIGHTS        12   \n",
       "1  489434    79323P                   PINK CHERRY LIGHTS        12   \n",
       "2  489434    79323W                  WHITE CHERRY LIGHTS        12   \n",
       "3  489434     22041         RECORD FRAME 7\" SINGLE SIZE         48   \n",
       "4  489434     21232       STRAWBERRY CERAMIC TRINKET BOX        24   \n",
       "\n",
       "        InvoiceDate  Price  Customer ID         Country  revenue  \n",
       "0  12-01-2009 07:45   6.95      13085.0  United Kingdom     83.4  \n",
       "1  12-01-2009 07:45   6.75      13085.0  United Kingdom     81.0  \n",
       "2  12-01-2009 07:45   6.75      13085.0  United Kingdom     81.0  \n",
       "3  12-01-2009 07:45   2.10      13085.0  United Kingdom    100.8  \n",
       "4  12-01-2009 07:45   1.25      13085.0  United Kingdom     30.0  "
      ]
     },
     "execution_count": 9,
     "metadata": {},
     "output_type": "execute_result"
    }
   ],
   "source": [
    "data.head()"
   ]
  },
  {
   "cell_type": "code",
   "execution_count": 10,
   "id": "256fecb7",
   "metadata": {},
   "outputs": [
    {
     "data": {
      "text/html": [
       "<div>\n",
       "<style scoped>\n",
       "    .dataframe tbody tr th:only-of-type {\n",
       "        vertical-align: middle;\n",
       "    }\n",
       "\n",
       "    .dataframe tbody tr th {\n",
       "        vertical-align: top;\n",
       "    }\n",
       "\n",
       "    .dataframe thead th {\n",
       "        text-align: right;\n",
       "    }\n",
       "</style>\n",
       "<table border=\"1\" class=\"dataframe\">\n",
       "  <thead>\n",
       "    <tr style=\"text-align: right;\">\n",
       "      <th></th>\n",
       "      <th>Customer ID</th>\n",
       "      <th>revenue</th>\n",
       "    </tr>\n",
       "  </thead>\n",
       "  <tbody>\n",
       "    <tr>\n",
       "      <th>0</th>\n",
       "      <td>12346.0</td>\n",
       "      <td>-64.68</td>\n",
       "    </tr>\n",
       "    <tr>\n",
       "      <th>1</th>\n",
       "      <td>12347.0</td>\n",
       "      <td>1323.32</td>\n",
       "    </tr>\n",
       "    <tr>\n",
       "      <th>2</th>\n",
       "      <td>12348.0</td>\n",
       "      <td>222.16</td>\n",
       "    </tr>\n",
       "    <tr>\n",
       "      <th>3</th>\n",
       "      <td>12349.0</td>\n",
       "      <td>2646.99</td>\n",
       "    </tr>\n",
       "    <tr>\n",
       "      <th>4</th>\n",
       "      <td>12351.0</td>\n",
       "      <td>300.93</td>\n",
       "    </tr>\n",
       "  </tbody>\n",
       "</table>\n",
       "</div>"
      ],
      "text/plain": [
       "   Customer ID  revenue\n",
       "0      12346.0   -64.68\n",
       "1      12347.0  1323.32\n",
       "2      12348.0   222.16\n",
       "3      12349.0  2646.99\n",
       "4      12351.0   300.93"
      ]
     },
     "execution_count": 10,
     "metadata": {},
     "output_type": "execute_result"
    }
   ],
   "source": [
    "revenue_contributed = data.groupby('Customer ID')['revenue'].sum()\n",
    "revenue_contributed = revenue_contributed.reset_index()\n",
    "revenue_contributed.head()"
   ]
  },
  {
   "cell_type": "markdown",
   "id": "4919d39c",
   "metadata": {},
   "source": [
    "##### frequency"
   ]
  },
  {
   "cell_type": "code",
   "execution_count": 11,
   "id": "e7912d8c",
   "metadata": {},
   "outputs": [
    {
     "data": {
      "text/html": [
       "<div>\n",
       "<style scoped>\n",
       "    .dataframe tbody tr th:only-of-type {\n",
       "        vertical-align: middle;\n",
       "    }\n",
       "\n",
       "    .dataframe tbody tr th {\n",
       "        vertical-align: top;\n",
       "    }\n",
       "\n",
       "    .dataframe thead th {\n",
       "        text-align: right;\n",
       "    }\n",
       "</style>\n",
       "<table border=\"1\" class=\"dataframe\">\n",
       "  <thead>\n",
       "    <tr style=\"text-align: right;\">\n",
       "      <th></th>\n",
       "      <th>Customer ID</th>\n",
       "      <th>Frequency</th>\n",
       "    </tr>\n",
       "  </thead>\n",
       "  <tbody>\n",
       "    <tr>\n",
       "      <th>0</th>\n",
       "      <td>12346.0</td>\n",
       "      <td>46</td>\n",
       "    </tr>\n",
       "    <tr>\n",
       "      <th>1</th>\n",
       "      <td>12347.0</td>\n",
       "      <td>71</td>\n",
       "    </tr>\n",
       "    <tr>\n",
       "      <th>2</th>\n",
       "      <td>12348.0</td>\n",
       "      <td>20</td>\n",
       "    </tr>\n",
       "    <tr>\n",
       "      <th>3</th>\n",
       "      <td>12349.0</td>\n",
       "      <td>107</td>\n",
       "    </tr>\n",
       "    <tr>\n",
       "      <th>4</th>\n",
       "      <td>12351.0</td>\n",
       "      <td>21</td>\n",
       "    </tr>\n",
       "  </tbody>\n",
       "</table>\n",
       "</div>"
      ],
      "text/plain": [
       "   Customer ID  Frequency\n",
       "0      12346.0         46\n",
       "1      12347.0         71\n",
       "2      12348.0         20\n",
       "3      12349.0        107\n",
       "4      12351.0         21"
      ]
     },
     "execution_count": 11,
     "metadata": {},
     "output_type": "execute_result"
    }
   ],
   "source": [
    "frequency = data.groupby('Customer ID')['Invoice'].count()\n",
    "frequency = frequency.reset_index()\n",
    "frequency.columns = ['Customer ID', 'Frequency']\n",
    "frequency.head()"
   ]
  },
  {
   "cell_type": "markdown",
   "id": "a64fba71",
   "metadata": {},
   "source": [
    "##### recency"
   ]
  },
  {
   "cell_type": "code",
   "execution_count": 12,
   "id": "658369cb",
   "metadata": {},
   "outputs": [
    {
     "name": "stdout",
     "output_type": "stream",
     "text": [
      "0   2009-01-12 07:45:00\n",
      "1   2009-01-12 07:45:00\n",
      "2   2009-01-12 07:45:00\n",
      "3   2009-01-12 07:45:00\n",
      "4   2009-01-12 07:45:00\n",
      "Name: InvoiceDate, dtype: datetime64[ns]\n",
      "       Invoice StockCode                          Description  Quantity  \\\n",
      "0       489434     85048  15CM CHRISTMAS GLASS BALL 20 LIGHTS        12   \n",
      "1       489434    79323P                   PINK CHERRY LIGHTS        12   \n",
      "2       489434    79323W                  WHITE CHERRY LIGHTS        12   \n",
      "3       489434     22041         RECORD FRAME 7\" SINGLE SIZE         48   \n",
      "4       489434     21232       STRAWBERRY CERAMIC TRINKET BOX        24   \n",
      "...        ...       ...                                  ...       ...   \n",
      "525456  538171     22271                 FELTCRAFT DOLL ROSIE         2   \n",
      "525457  538171     22750         FELTCRAFT PRINCESS LOLA DOLL         1   \n",
      "525458  538171     22751       FELTCRAFT PRINCESS OLIVIA DOLL         1   \n",
      "525459  538171     20970   PINK FLORAL FELTCRAFT SHOULDER BAG         2   \n",
      "525460  538171     21931               JUMBO STORAGE BAG SUKI         2   \n",
      "\n",
      "               InvoiceDate  Price  Customer ID         Country  revenue  \\\n",
      "0      2009-01-12 07:45:00   6.95      13085.0  United Kingdom    83.40   \n",
      "1      2009-01-12 07:45:00   6.75      13085.0  United Kingdom    81.00   \n",
      "2      2009-01-12 07:45:00   6.75      13085.0  United Kingdom    81.00   \n",
      "3      2009-01-12 07:45:00   2.10      13085.0  United Kingdom   100.80   \n",
      "4      2009-01-12 07:45:00   1.25      13085.0  United Kingdom    30.00   \n",
      "...                    ...    ...          ...             ...      ...   \n",
      "525456 2010-09-12 20:01:00   2.95      17530.0  United Kingdom     5.90   \n",
      "525457 2010-09-12 20:01:00   3.75      17530.0  United Kingdom     3.75   \n",
      "525458 2010-09-12 20:01:00   3.75      17530.0  United Kingdom     3.75   \n",
      "525459 2010-09-12 20:01:00   3.75      17530.0  United Kingdom     7.50   \n",
      "525460 2010-09-12 20:01:00   1.95      17530.0  United Kingdom     3.90   \n",
      "\n",
      "        recency  \n",
      "0           698  \n",
      "1           698  \n",
      "2           698  \n",
      "3           698  \n",
      "4           698  \n",
      "...         ...  \n",
      "525456       89  \n",
      "525457       89  \n",
      "525458       89  \n",
      "525459       89  \n",
      "525460       89  \n",
      "\n",
      "[171072 rows x 10 columns]\n"
     ]
    }
   ],
   "source": [
    "data['InvoiceDate'] = pd.to_datetime(data['InvoiceDate'], format='%d-%m-%Y %H:%M', errors='coerce')\n",
    "\n",
    "# Print the parsed dates to verify\n",
    "print(data['InvoiceDate'].head())\n",
    "\n",
    "data = data.dropna(subset=['InvoiceDate'])\n",
    "\n",
    "# Calculate recency\n",
    "most_recent_date = data['InvoiceDate'].max()\n",
    "data['recency'] = (most_recent_date - data['InvoiceDate']).dt.days\n",
    "\n",
    "# Print the updated DataFrame\n",
    "print(data)\n",
    "\n",
    "\n"
   ]
  },
  {
   "cell_type": "code",
   "execution_count": 13,
   "id": "2f1b2792",
   "metadata": {},
   "outputs": [
    {
     "name": "stdout",
     "output_type": "stream",
     "text": [
      "   Customer ID  recency  Frequency  Monetary\n",
      "0      12346.0      245          9     66.55\n",
      "1      12347.0      152         31    711.79\n",
      "2      12349.0      608          5    -24.15\n",
      "3      12352.0        0          6    143.75\n",
      "4      12356.0       30         57   3212.40\n"
     ]
    }
   ],
   "source": [
    "# Combine RFM metrics (Recency, Frequency, Monetary)\n",
    "rfm_data = data.groupby('Customer ID').agg({\n",
    "    'recency': 'min',  # Minimum days since last transaction\n",
    "    'Invoice': 'count',  # Frequency\n",
    "    'revenue': 'sum'  # Monetary value\n",
    "}).reset_index()\n",
    "rfm_data.rename(columns={'Invoice': 'Frequency', 'revenue': 'Monetary'}, inplace=True)\n",
    "print(rfm_data.head())"
   ]
  },
  {
   "cell_type": "code",
   "execution_count": 14,
   "id": "316db736",
   "metadata": {},
   "outputs": [
    {
     "name": "stdout",
     "output_type": "stream",
     "text": [
      "RFM data has been successfully saved to rfm_data.xlsx\n"
     ]
    }
   ],
   "source": [
    "output_file = 'rfm_data.xlsx'\n",
    "rfm_data.to_excel(output_file, index=False)\n",
    "\n",
    "print(f\"RFM data has been successfully saved to {output_file}\")"
   ]
  },
  {
   "cell_type": "code",
   "execution_count": 7,
   "id": "2fd84aee",
   "metadata": {},
   "outputs": [
    {
     "data": {
      "image/png": "[encoded data removed]",
      "text/plain": [
       "<Figure size 400x300 with 1 Axes>"
      ]
     },
     "metadata": {},
     "output_type": "display_data"
    }
   ],
   "source": [
    "rfm_data = pd.read_excel('rfm_data.xlsx')  # Adjust the path if needed\n",
    "\n",
    "# Calculate the average of Recency, Frequency, and Monetary\n",
    "rfm_avg = rfm_data[['recency', 'Frequency', 'Monetary']].mean()\n",
    "\n",
    "# Create a bar plot for RFM analysis\n",
    "plt.figure(figsize=(4, 3))\n",
    "rfm_avg.plot(kind='bar', color=['skyblue', 'lightgreen', 'salmon'])\n",
    "plt.title('Average RFM Analysis', fontsize=16)\n",
    "plt.xlabel('RFM Metrics', fontsize=12)\n",
    "plt.ylabel('Average Values', fontsize=12)\n",
    "plt.xticks(rotation=0)\n",
    "plt.grid(axis='y', linestyle='--', alpha=0.7)\n",
    "plt.tight_layout()\n",
    "plt.show()"
   ]
  },
  {
   "cell_type": "markdown",
   "id": "788f7b1c",
   "metadata": {},
   "source": [
    "### k means\n"
   ]
  },
  {
   "cell_type": "code",
   "execution_count": 15,
   "id": "faae9daf",
   "metadata": {},
   "outputs": [],
   "source": [
    "scaler = StandardScaler()\n",
    "rfm_scaled = scaler.fit_transform(rfm_data[['recency', 'Frequency', 'Monetary']])\n",
    "\n"
   ]
  },
  {
   "cell_type": "code",
   "execution_count": 16,
   "id": "bf2c7cb7",
   "metadata": {},
   "outputs": [],
   "source": [
    "# Apply KMeans clustering\n",
    "kmeans = KMeans(n_clusters=3, random_state=42)\n",
    "rfm_data['Cluster'] = kmeans.fit_predict(rfm_scaled)"
   ]
  },
  {
   "cell_type": "code",
   "execution_count": 17,
   "id": "2c738c8d",
   "metadata": {},
   "outputs": [
    {
     "name": "stdout",
     "output_type": "stream",
     "text": [
      "Clustered data saved to rfm_clusters.xlsx\n"
     ]
    }
   ],
   "source": [
    "# Save the resulting RFM data with clusters to an Excel file\n",
    "output_file = 'rfm_clusters.xlsx'\n",
    "rfm_data.to_excel(output_file, index=False)\n",
    "print(f\"Clustered data saved to {output_file}\")"
   ]
  },
  {
   "cell_type": "code",
   "execution_count": 18,
   "id": "c0861f74",
   "metadata": {},
   "outputs": [
    {
     "data": {
      "image/png": "[encoded data removed]",
      "text/plain": [
       "<Figure size 500x400 with 1 Axes>"
      ]
     },
     "metadata": {},
     "output_type": "display_data"
    }
   ],
   "source": [
    "rfm_data = pd.read_excel('rfm_clusters.xlsx')\n",
    "cluster_avg = rfm_data.groupby('Cluster')[['recency', 'Frequency', 'Monetary']].mean()\n",
    "\n",
    "# Plot bar graph for each RFM metric\n",
    "cluster_avg.plot(kind='bar', figsize=(5, 4), colormap='viridis')\n",
    "plt.title('Average RFM Values by K-Means Clusters', fontsize=16)\n",
    "plt.xlabel('Cluster', fontsize=12)\n",
    "plt.ylabel('Average Values', fontsize=12)\n",
    "plt.xticks(rotation=0)\n",
    "plt.grid(axis='y', linestyle='--', alpha=0.7)\n",
    "plt.tight_layout()\n",
    "plt.show()"
   ]
  },
  {
   "cell_type": "markdown",
   "id": "2b7a728b",
   "metadata": {},
   "source": [
    "### Hierarchical"
   ]
  },
  {
   "cell_type": "code",
   "execution_count": 18,
   "id": "18e354bc",
   "metadata": {},
   "outputs": [],
   "source": [
    "rfm_data = pd.read_excel('rfm_clusters.xlsx')  # Replace with your file path"
   ]
  },
  {
   "cell_type": "code",
   "execution_count": 11,
   "id": "c9a2632a",
   "metadata": {},
   "outputs": [
    {
     "name": "stdout",
     "output_type": "stream",
     "text": [
      "Clustered data with hierarchical clustering saved to hierarchical_clusters.xlsx\n"
     ]
    }
   ],
   "source": [
    "\n",
    "# Ensure relevant columns are available for clustering\n",
    "data_to_cluster = rfm_data[['recency', 'Frequency', 'Monetary']]\n",
    "\n",
    "# Scale the data for clustering\n",
    "scaler = StandardScaler()\n",
    "data_scaled = scaler.fit_transform(data_to_cluster)\n",
    "\n",
    "# Perform hierarchical clustering\n",
    "linked = linkage(data_scaled, method='ward')  # Using Ward's method for minimizing variance\n",
    "\n",
    "# Assign clusters based on the dendrogram\n",
    "# Decide the number of clusters based on the dendrogram\n",
    "num_clusters = 3\n",
    "rfm_data['Cluster_Hierarchical'] = fcluster(linked, num_clusters, criterion='maxclust')\n",
    "\n",
    "# Save the updated RFM data with hierarchical clustering results\n",
    "output_file_hierarchical = 'hierarchical_clusters.xlsx'\n",
    "rfm_data.to_excel(output_file_hierarchical, index=False)\n",
    "print(f\"Clustered data with hierarchical clustering saved to {output_file_hierarchical}\")"
   ]
  },
  {
   "cell_type": "code",
   "execution_count": 16,
   "id": "be82481f",
   "metadata": {},
   "outputs": [
    {
     "data": {
      "image/png": "[encoded data removed]",
      "text/plain": [
       "<Figure size 500x300 with 1 Axes>"
      ]
     },
     "metadata": {},
     "output_type": "display_data"
    }
   ],
   "source": [
    "rfm_data = pd.read_excel('hierarchical_clusters.xlsx')  # Adjust path if needed\n",
    "\n",
    "# Group by clusters and calculate average RFM values\n",
    "Cluster_avg = rfm_data.groupby('Cluster_Hierarchical')[['recency', 'Frequency', 'Monetary']].mean()\n",
    "\n",
    "# Create a bar graph for each RFM metric\n",
    "Cluster_avg.plot(kind='bar', figsize=(5, 3), colormap='viridis')\n",
    "plt.title('Average RFM Values by Hierarchical Clusters', fontsize=16)\n",
    "plt.xlabel('Cluster', fontsize=12)\n",
    "plt.ylabel('Average Values', fontsize=12)\n",
    "plt.xticks(rotation=0)\n",
    "plt.grid(axis='y', linestyle='--', alpha=0.4)\n",
    "plt.tight_layout()\n",
    "plt.show()"
   ]
  },
  {
   "cell_type": "markdown",
   "id": "73aaedc3",
   "metadata": {},
   "source": [
    "### dbscan"
   ]
  },
  {
   "cell_type": "code",
   "execution_count": 22,
   "id": "e3afe530",
   "metadata": {},
   "outputs": [],
   "source": [
    "# Load the RFM data (if already saved)\n",
    "rfm_data = pd.read_excel('rfm_clusters.xlsx')  # Replace with your file path\n",
    "\n"
   ]
  },
  {
   "cell_type": "code",
   "execution_count": 23,
   "id": "8fd1541d",
   "metadata": {},
   "outputs": [],
   "source": [
    "# Ensure relevant columns are available for clustering\n",
    "data_to_cluster = rfm_data[['recency', 'Frequency', 'Monetary']]\n",
    "\n"
   ]
  },
  {
   "cell_type": "code",
   "execution_count": 24,
   "id": "8546ff6e",
   "metadata": {},
   "outputs": [],
   "source": [
    "# Scale the data for clustering\n",
    "scaler = StandardScaler()\n",
    "data_scaled = scaler.fit_transform(data_to_cluster)\n",
    "\n"
   ]
  },
  {
   "cell_type": "code",
   "execution_count": 25,
   "id": "dfb4ac63",
   "metadata": {},
   "outputs": [],
   "source": [
    "\n",
    "dbscan = DBSCAN(eps=0.5, min_samples=5, metric='euclidean')\n",
    "rfm_data['Cluster_DBSCAN'] = dbscan.fit_predict(data_scaled)\n",
    "\n"
   ]
  },
  {
   "cell_type": "code",
   "execution_count": 27,
   "id": "4b901809",
   "metadata": {},
   "outputs": [
    {
     "name": "stdout",
     "output_type": "stream",
     "text": [
      "Clustered data with DBSCAN saved to rfm_with_dbscan_clusters.xlsx\n"
     ]
    }
   ],
   "source": [
    "# Save the results to an Excel file\n",
    "output_file_dbscan = 'rfm_with_dbscan_clusters.xlsx'\n",
    "rfm_data.to_excel(output_file_dbscan, index=False)\n",
    "print(f\"Clustered data with DBSCAN saved to {output_file_dbscan}\")\n"
   ]
  },
  {
   "cell_type": "code",
   "execution_count": 20,
   "id": "810bef35",
   "metadata": {},
   "outputs": [
    {
     "data": {
      "image/png": "[encoded data removed]",
      "text/plain": [
       "<Figure size 500x300 with 1 Axes>"
      ]
     },
     "metadata": {},
     "output_type": "display_data"
    }
   ],
   "source": [
    "rfm_data = pd.read_excel('rfm_with_dbscan_clusters.xlsx')\n",
    "if -1 in rfm_data['Cluster'].unique():\n",
    "    print(\"DBSCAN detected noise points (-1 label).\")\n",
    "\n",
    "# Filter out noise points (-1) if needed\n",
    "filtered_rfm_data = rfm_data[rfm_data['Cluster'] != -1]\n",
    "\n",
    "# Group and calculate mean\n",
    "cluster_avg = filtered_rfm_data.groupby('Cluster')[['recency', 'Frequency', 'Monetary']].mean()\n",
    "\n",
    "# Plot bar graph for each RFM metric\n",
    "cluster_avg.plot(kind='bar', figsize=(5, 3), colormap='plasma')\n",
    "plt.title('Average RFM Values by DBSCAN Clusters', fontsize=16)\n",
    "plt.xlabel('Cluster', fontsize=12)\n",
    "plt.ylabel('Average Values', fontsize=12)\n",
    "plt.xticks(rotation=0)\n",
    "plt.grid(axis='y', linestyle='--', alpha=0.7)\n",
    "plt.tight_layout()\n",
    "plt.show()"
   ]
  },
  {
   "cell_type": "code",
   "execution_count": null,
   "id": "7df564dc",
   "metadata": {},
   "outputs": [],
   "source": []
  }
 ],
 "metadata": {
  "kernelspec": {
   "display_name": "base",
   "language": "python",
   "name": "python3"
  },
  "language_info": {
   "codemirror_mode": {
    "name": "ipython",
    "version": 3
   },
   "file_extension": ".py",
   "mimetype": "text/x-python",
   "name": "python",
   "nbconvert_exporter": "python",
   "pygments_lexer": "ipython3",
   "version": "3.9.13"
  }
 },
 "nbformat": 4,
 "nbformat_minor": 5
}
